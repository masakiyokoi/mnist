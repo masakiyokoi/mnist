{
 "cells": [
  {
   "cell_type": "markdown",
   "metadata": {},
   "source": [
    "## Twolayerのバッチ処理"
   ]
  },
  {
   "cell_type": "code",
   "execution_count": null,
   "metadata": {},
   "outputs": [],
   "source": [
    "import numpy as np\n",
    "from load_mnist import *\n",
    "from TwolayerNet import Twolayer\n",
    "\n",
    "x_train,t_train = load_mnist('',kind = 'train')\n",
    "\n",
    "train_loss_list = []\n",
    "\n",
    "#ハイパーパラメータ\n",
    "iters_num = 10000  #更新の回数\n",
    "train_size = x_train.shape[0] #60000\n",
    "batch_size = 10\n",
    "learning_rate = 0.1\n",
    "\n",
    "network = Twolayer(input_size = 784,hidden_size=100,output_size = 10)\n",
    "t_train = network.convert_t(t_train)\n",
    "\n",
    "for i in range(iters_num): #何回処理するか、重みを更新するか。\n",
    "    #ミニバッチの取得\n",
    "    batch_mask = np.random.choice(train_size,batch_size) #60000の数字の中からbatch_sizeの数だけ数字取得,1次元配列\n",
    "    #print(batch_mask)\n",
    "    x_batch = x_train[batch_mask]  # x_batch,t_batchにバッチ数分のデータが入る。\n",
    "    t_batch = t_train[batch_mask]\n",
    "    \n",
    "    #print(network.accuracy(x_batch,t_batch))\n",
    "    #勾配の計算\n",
    "    grad = network.numerical_gradient(x_batch,t_batch)  #loss_wにおいて数値微分された新たな重みがgradに返る。\n",
    "    \n",
    "    #パラメータの更新\n",
    "    for key in ('W1','b1','W2','b2'):\n",
    "        network.params[key] -= learning_rate * grad[key] #4回回してそれぞれを上書き(更新)\n",
    "    \n",
    "    loss = network.loss(x_batch,t_batch) #今回選択されたデータでloss(predictの出力との誤差)をだす。\n",
    "    train_loss_list.append(loss) \n",
    "print(train_loss_list)"
   ]
  },
  {
   "cell_type": "code",
   "execution_count": null,
   "metadata": {},
   "outputs": [],
   "source": []
  }
 ],
 "metadata": {
  "kernelspec": {
   "display_name": "Python 3",
   "language": "python",
   "name": "python3"
  },
  "language_info": {
   "codemirror_mode": {
    "name": "ipython",
    "version": 3
   },
   "file_extension": ".py",
   "mimetype": "text/x-python",
   "name": "python",
   "nbconvert_exporter": "python",
   "pygments_lexer": "ipython3",
   "version": "3.6.5"
  }
 },
 "nbformat": 4,
 "nbformat_minor": 2
}

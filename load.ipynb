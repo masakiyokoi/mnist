{
 "cells": [
  {
   "cell_type": "markdown",
   "metadata": {},
   "source": [
    "## mnistデータの表示 "
   ]
  },
  {
   "cell_type": "code",
   "execution_count": 1,
   "metadata": {},
   "outputs": [
    {
     "name": "stdout",
     "output_type": "stream",
     "text": [
      "(60000, 784) (60000,)\n",
      "(10000, 784) (10000,)\n"
     ]
    }
   ],
   "source": [
    "from load_mnist import *\n",
    "import matplotlib.pyplot as plt\n",
    "\n",
    "x_train,t_train = load_mnist('',kind = 'train')\n",
    "print(x_train.shape,t_train.shape)\n",
    "x_test,t_test = load_mnist('',kind = 't10k')\n",
    "print(x_test.shape,t_test.shape)"
   ]
  },
  {
   "cell_type": "code",
   "execution_count": null,
   "metadata": {},
   "outputs": [],
   "source": [
    "fig,ax = plt.subplots(nrows = 2,ncols = 5,sharex = True,sharey = True)\n",
    "\n",
    "ax = ax.flatten() #flatten→1次元配列化\n",
    "#print(ax)\n",
    "\n",
    "\n",
    "#img = x_train[y_train ==0][0] #x_train[0][0]じゃないぞ、、→x_trainからラベルが0のデータを抽出して0番目の画像をとる。(何番でも良い)\n",
    "#img.shape\n",
    "#print(img)\n",
    "\n",
    "for i in range(10):\n",
    "    img = x_train[t_train ==i][6].reshape(28,28)\n",
    "    ax[i].imshow(img)"
   ]
  },
  {
   "cell_type": "code",
   "execution_count": null,
   "metadata": {},
   "outputs": [],
   "source": []
  }
 ],
 "metadata": {
  "kernelspec": {
   "display_name": "Python 3",
   "language": "python",
   "name": "python3"
  },
  "language_info": {
   "codemirror_mode": {
    "name": "ipython",
    "version": 3
   },
   "file_extension": ".py",
   "mimetype": "text/x-python",
   "name": "python",
   "nbconvert_exporter": "python",
   "pygments_lexer": "ipython3",
   "version": "3.6.5"
  }
 },
 "nbformat": 4,
 "nbformat_minor": 2
}

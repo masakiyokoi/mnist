{
 "cells": [
  {
   "cell_type": "markdown",
   "metadata": {},
   "source": [
    "## 1層パーセプトロンでmnistを学習 "
   ]
  },
  {
   "cell_type": "code",
   "execution_count": 48,
   "metadata": {},
   "outputs": [],
   "source": [
    "import sys,os\n",
    "sys.path.append('~/common')\n",
    "import numpy as np\n",
    "from common.functions import softmax,cross_entropy_error  #softmax(活性化関数),エントロピー二乗誤差(誤差関数)\n",
    "import pprint\n",
    "#from gradient import numerical_gradient #numerical_gradient(パラメータの更新、勾配)"
   ]
  },
  {
   "cell_type": "code",
   "execution_count": 49,
   "metadata": {},
   "outputs": [],
   "source": [
    "class one_neuralnet:\n",
    "    def __init__(self):\n",
    "        self.W = np.random.randn(784,10) #ガウス分布で一つの重みを初期化\n",
    "        \n",
    "    def predict(self,x): #入力と重みの掛け算をして活性化関数を通して出力を出す。\n",
    "        a = np.dot(x,self.W)\n",
    "        y = softmax(a) #functions\n",
    "        \n",
    "        return y    \n",
    "    \n",
    "    def loss(self,x,t): #1層なら必要ない。損失関数が評価の指標\n",
    "        \n",
    "        y = self.predict(x) \n",
    "        loss = cross_entropy_error(y,t) #functions\n",
    "        \n",
    "        return loss\n",
    "        \n",
    "    def accuracy(self,x,t): #精度の算出\n",
    "        y = self.predict(x) #出力\n",
    "        y = np.argmax(y,axis=0) #最大値を持つインデックス値\n",
    "        t = np.argmax(t,axis=0)\n",
    "        accuracy = np.sum(y==t) / float(x.shape[0])\n",
    "        \n",
    "        return accuracy"
   ]
  },
  {
   "cell_type": "code",
   "execution_count": 86,
   "metadata": {},
   "outputs": [
    {
     "name": "stdout",
     "output_type": "stream",
     "text": [
      "[0, 0, 0, 0, 1, 0, 0, 0, 0, 0]\n",
      "________\n",
      "[0. 0. 0. 0. 1. 0. 0. 0. 0. 0.]\n",
      "0.0012755102040816326\n"
     ]
    }
   ],
   "source": [
    "from load_mnist import *\n",
    "import matplotlib.pyplot as plt\n",
    "\n",
    "x_train,t_train = load_mnist('',kind = 'train')\n",
    "#print(x_train.shape,t_train.shape)\n",
    "\n",
    "x = x_train[0] #shape[0]=784\n",
    "t = [0]*10\n",
    "t[t_train[0] - 1] = 1 #shape=784\n",
    "\n",
    "print(t) #onehot表現の行列作成\n",
    "print(\"________\")\n",
    "net = one_neuralnet()\n",
    "#pprint.pprint(net.W)\n",
    "#print(net.W.shape＃print(net.W.shape)\n",
    "\n",
    "p = net.predict(x)\n",
    "print(p)\n",
    "acc = net.accuracy(x,t)\n",
    "print(acc)"
   ]
  },
  {
   "cell_type": "code",
   "execution_count": null,
   "metadata": {},
   "outputs": [],
   "source": []
  },
  {
   "cell_type": "code",
   "execution_count": null,
   "metadata": {},
   "outputs": [],
   "source": []
  }
 ],
 "metadata": {
  "kernelspec": {
   "display_name": "Python 3",
   "language": "python",
   "name": "python3"
  },
  "language_info": {
   "codemirror_mode": {
    "name": "ipython",
    "version": 3
   },
   "file_extension": ".py",
   "mimetype": "text/x-python",
   "name": "python",
   "nbconvert_exporter": "python",
   "pygments_lexer": "ipython3",
   "version": "3.6.5"
  }
 },
 "nbformat": 4,
 "nbformat_minor": 2
}
